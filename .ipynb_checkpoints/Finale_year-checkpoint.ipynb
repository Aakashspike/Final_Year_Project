{
 "cells": [
  {
   "cell_type": "code",
   "execution_count": 1,
   "id": "599c157c-29f4-46da-8c92-78c8da6c3bb5",
   "metadata": {},
   "outputs": [],
   "source": [
    "import cv2"
   ]
  },
  {
   "cell_type": "code",
   "execution_count": 2,
   "id": "2bc7e261-bbed-466d-8f3c-c76fe377b0f1",
   "metadata": {},
   "outputs": [],
   "source": [
    "import numpy as np"
   ]
  },
  {
   "cell_type": "code",
   "execution_count": 3,
   "id": "7c75b5f7-143f-49c7-98f3-f8407d32e77e",
   "metadata": {},
   "outputs": [],
   "source": [
    "cap = cv2.VideoCapture('video.mp4')"
   ]
  },
  {
   "cell_type": "code",
   "execution_count": 4,
   "id": "380a4db9-f4fa-49f3-9e5e-919efcd89d41",
   "metadata": {},
   "outputs": [],
   "source": [
    "# Substructor algo\n",
    "algo = cv2.bgsegm.createBackgroundSubtractorMOG()"
   ]
  },
  {
   "cell_type": "code",
   "execution_count": 7,
   "id": "919d5851-41ab-446f-a5ef-187aedfd1464",
   "metadata": {},
   "outputs": [],
   "source": [
    "count_line_position = 550\n",
    "min_width_rect = 80\n",
    "min_height_rect = 80"
   ]
  },
  {
   "cell_type": "code",
   "execution_count": 8,
   "id": "6b4f6c44-35a0-4edb-ae1c-a96194691903",
   "metadata": {},
   "outputs": [],
   "source": [
    "while True:\n",
    "    ret,frame1 = cap.read()\n",
    "    grey = cv2.cvtColor(frame1,cv2.COLOR_BGR2GRAY)\n",
    "    blur = cv2.GaussianBlur(grey,(3,3),5)\n",
    "    img_sub = algo.apply(blur)\n",
    "    dilat = cv2.dilate(img_sub,np.ones((5,5)))\n",
    "    kernel = cv2.getStructuringElement(cv2.MORPH_ELLIPSE,(5,5))\n",
    "    dilate_ = cv2.morphologyEx(dilat,cv2.MORPH_CLOSE, kernel)\n",
    "    dilate_ = cv2.morphologyEx(dilate_,cv2.MORPH_CLOSE, kernel)\n",
    "    counterShape,h = cv2.findContours(dilate_, cv2.RETR_TREE,cv2.CHAIN_APPROX_SIMPLE)\n",
    "    \n",
    "    cv2.line(frame1,(25,count_line_position),(1200,count_line_position),(197,123,175),3)\n",
    "    \n",
    "    for i,c in enumerate(counterShape):\n",
    "        (x,y,w,h) =cv2.boundingRect(c)\n",
    "        validate_counter = (w >= min_width_rect) and (h >= min_height_rect)\n",
    "        if not validate_counter:\n",
    "            continue\n",
    "        cv2.rectangle(frame1,(x,y),(x+w,y+h),(0,0,255),2)\n",
    "    \n",
    "    \n",
    "    cv2.imshow('Original video',frame1)\n",
    "    if cv2.waitKey(1) == 13:\n",
    "        break\n",
    "cv2.destroyAllWindows()\n",
    "cap.release()"
   ]
  },
  {
   "cell_type": "code",
   "execution_count": null,
   "id": "ef572088-1d33-4d1b-a865-17c3fea0f07f",
   "metadata": {},
   "outputs": [],
   "source": []
  }
 ],
 "metadata": {
  "kernelspec": {
   "display_name": "Python 3 (ipykernel)",
   "language": "python",
   "name": "python3"
  },
  "language_info": {
   "codemirror_mode": {
    "name": "ipython",
    "version": 3
   },
   "file_extension": ".py",
   "mimetype": "text/x-python",
   "name": "python",
   "nbconvert_exporter": "python",
   "pygments_lexer": "ipython3",
   "version": "3.10.0"
  }
 },
 "nbformat": 4,
 "nbformat_minor": 5
}
